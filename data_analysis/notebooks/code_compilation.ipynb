{
 "cells": [
  {
   "cell_type": "markdown",
   "id": "268d6177-1622-4e74-bc33-fed10dbc00b8",
   "metadata": {},
   "source": [
    "### BigCode python code dataset validation\n",
    "\n",
    "We find that in a subset of 10k filesin the **bigcode/python_safe_license**, only 0.24% of the files don't compile and have syntax errors"
   ]
  },
  {
   "cell_type": "code",
   "execution_count": 1,
   "id": "711589e7-d3dc-4e3d-b5d9-4bacf2319826",
   "metadata": {},
   "outputs": [],
   "source": [
    "from datasets import load_dataset"
   ]
  },
  {
   "cell_type": "code",
   "execution_count": 3,
   "id": "ce6983b9-d8c5-4e96-bb33-9d4c93e56901",
   "metadata": {
    "tags": []
   },
   "outputs": [
    {
     "name": "stderr",
     "output_type": "stream",
     "text": [
      "Using custom data configuration bigcode--python_safe_license-05b1c2b44aa5d114\n"
     ]
    }
   ],
   "source": [
    "data = load_dataset('bigcode/python_safe_license', streaming=True, split=\"train\", use_auth_token=True, ignore_verifications=True)"
   ]
  },
  {
   "cell_type": "code",
   "execution_count": 18,
   "id": "5fa6bc8f-7b7b-48f7-a7c2-739cea64aeb0",
   "metadata": {
    "tags": []
   },
   "outputs": [],
   "source": [
    "import tempfile\n",
    "import subprocess\n",
    "from tqdm import tqdm\n",
    "\n",
    "def compile_python_code(sample):\n",
    "    string = sample[\"content\"]\n",
    "    tmp = tempfile.NamedTemporaryFile()\n",
    "    with open(tmp.name, \"w\") as f:\n",
    "        f.write(string)\n",
    "    py_command = \"python{v} -m py_compile \" + tmp.name\n",
    "    \n",
    "    try:\n",
    "        subprocess.check_call(py_command.format(v=3).split())\n",
    "        python3_works = True\n",
    "    except subprocess.CalledProcessError:\n",
    "        python3_works = False\n",
    "\n",
    "    try:\n",
    "        subprocess.check_call(py_command.format(v=2).split())\n",
    "        python2_works = True\n",
    "    except subprocess.CalledProcessError:\n",
    "        python2_works = False\n",
    "\n",
    "    return python2_works or python3_works"
   ]
  },
  {
   "cell_type": "code",
   "execution_count": 32,
   "id": "03c93e68-49df-4334-a87f-cabd30df4883",
   "metadata": {},
   "outputs": [],
   "source": [
    "subset = list(data.shuffle(seed=42).take(10_000))"
   ]
  },
  {
   "cell_type": "code",
   "execution_count": null,
   "id": "ce536073-f1f3-41d2-a89a-ff9f5428b8d5",
   "metadata": {
    "collapsed": true,
    "jupyter": {
     "outputs_hidden": true
    },
    "tags": []
   },
   "outputs": [],
   "source": [
    "python_checks = []\n",
    "for i in tqdm(range(len(subset))):\n",
    "    python_checks.append(compile_python_code(subset[i]))"
   ]
  },
  {
   "cell_type": "markdown",
   "id": "09c9684e",
   "metadata": {},
   "source": []
  },
  {
   "cell_type": "code",
   "execution_count": 26,
   "id": "0b5165a9-b828-4294-a3bd-07368f22c810",
   "metadata": {},
   "outputs": [
    {
     "name": "stdout",
     "output_type": "stream",
     "text": [
      "number of valid python files in the first 10k: 9976\n",
      "percentage of non valid files: 0.24%\n"
     ]
    }
   ],
   "source": [
    "print(f\"number of valid python files in the first 10k: {sum(python_checks)}\")\n",
    "print(f\"percentage of non valid files: {(len(python_checks) - sum(python_checks)) * 100 / len(python_checks)}%\")"
   ]
  },
  {
   "cell_type": "markdown",
   "id": "ea3db0d8",
   "metadata": {},
   "source": [
    "### Examples of files that don't compile"
   ]
  },
  {
   "cell_type": "code",
   "execution_count": 27,
   "id": "5f0fd878-5238-41f9-bea2-c2b6daf0d4e3",
   "metadata": {},
   "outputs": [
    {
     "name": "stdout",
     "output_type": "stream",
     "text": [
      "705\n",
      "1412\n",
      "1490\n",
      "1584\n",
      "1962\n",
      "2378\n",
      "2431\n",
      "2555\n",
      "2581\n",
      "2659\n",
      "3044\n",
      "3060\n",
      "3069\n",
      "3711\n",
      "3837\n",
      "4629\n",
      "6101\n",
      "6901\n",
      "6917\n",
      "6920\n",
      "7794\n",
      "8084\n",
      "8560\n",
      "9495\n"
     ]
    }
   ],
   "source": [
    "# show which files weren't valid\n",
    "for i, e in enumerate(python_checks):\n",
    "    if not e:\n",
    "        print(i)"
   ]
  },
  {
   "cell_type": "code",
   "execution_count": 28,
   "id": "fed2b1cc-f111-4b57-999c-44a386c2c14a",
   "metadata": {},
   "outputs": [
    {
     "name": "stderr",
     "output_type": "stream",
     "text": [
      "  File \"/var/folders/yr/snw4cq790975mv7_mbwkxm500000gn/T/tmp5r13si_2\", line 11\n",
      "    %matplotlib inline\n",
      "    ^\n",
      "SyntaxError: invalid syntax\n",
      "  File \"/var/folders/yr/snw4cq790975mv7_mbwkxm500000gn/T/tmp5r13si_2\", line 11\n",
      "    %matplotlib inline\n",
      "    ^\n",
      "SyntaxError: invalid syntax\n",
      "\n"
     ]
    },
    {
     "data": {
      "text/plain": [
       "False"
      ]
     },
     "execution_count": 28,
     "metadata": {},
     "output_type": "execute_result"
    }
   ],
   "source": [
    "compile_python_code(subset[705])"
   ]
  },
  {
   "cell_type": "code",
   "execution_count": 29,
   "id": "99631e22-028a-48bb-87c6-95b94699c9f3",
   "metadata": {},
   "outputs": [
    {
     "name": "stderr",
     "output_type": "stream",
     "text": [
      "  File \"/var/folders/yr/snw4cq790975mv7_mbwkxm500000gn/T/tmpgk6cray7\", line 11\n",
      "    from tensorflow.keras.metrics import AUC, MeanSquaredError, RootMeanSquaredError,\n",
      "                                                                                     ^\n",
      "SyntaxError: trailing comma not allowed without surrounding parentheses\n",
      "Sorry: IndentationError: unexpected indent (tmpgk6cray7, line 12)\n"
     ]
    },
    {
     "data": {
      "text/plain": [
       "False"
      ]
     },
     "execution_count": 29,
     "metadata": {},
     "output_type": "execute_result"
    }
   ],
   "source": [
    "compile_python_code(subset[1412])"
   ]
  },
  {
   "cell_type": "code",
   "execution_count": 30,
   "id": "0b2a8391",
   "metadata": {},
   "outputs": [
    {
     "name": "stderr",
     "output_type": "stream",
     "text": [
      "  File \"/var/folders/yr/snw4cq790975mv7_mbwkxm500000gn/T/tmp2zt_z_cm\", line 167\n",
      "    elif:\n",
      "        ^\n",
      "SyntaxError: invalid syntax\n",
      "  File \"/var/folders/yr/snw4cq790975mv7_mbwkxm500000gn/T/tmp2zt_z_cm\", line 167\n",
      "    elif:\n",
      "        ^\n",
      "SyntaxError: invalid syntax\n",
      "\n"
     ]
    },
    {
     "data": {
      "text/plain": [
       "False"
      ]
     },
     "execution_count": 30,
     "metadata": {},
     "output_type": "execute_result"
    }
   ],
   "source": [
    "compile_python_code(subset[1490])"
   ]
  }
 ],
 "metadata": {
  "environment": {
   "kernel": "conda-env-venv-py",
   "name": "pytorch-xla.1-10.m90",
   "type": "gcloud",
   "uri": "gcr.io/deeplearning-platform-release/pytorch-xla.1-10:m90"
  },
  "interpreter": {
   "hash": "fd8fde6f83dada9276d12fdb71d773558994168ed1b3bea457b8db38c02aa2e1"
  },
  "kernelspec": {
   "display_name": "Python 3.10.4 ('venv')",
   "language": "python",
   "name": "python3"
  },
  "language_info": {
   "codemirror_mode": {
    "name": "ipython",
    "version": 3
   },
   "file_extension": ".py",
   "mimetype": "text/x-python",
   "name": "python",
   "nbconvert_exporter": "python",
   "pygments_lexer": "ipython3",
   "version": "3.10.4"
  }
 },
 "nbformat": 4,
 "nbformat_minor": 5
}
