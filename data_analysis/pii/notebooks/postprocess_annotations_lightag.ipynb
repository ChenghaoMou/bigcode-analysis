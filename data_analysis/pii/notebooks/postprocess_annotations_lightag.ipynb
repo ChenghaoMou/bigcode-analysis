{
 "cells": [
  {
   "cell_type": "markdown",
   "metadata": {},
   "source": [
    "## Cleaning annotation datasets"
   ]
  },
  {
   "cell_type": "markdown",
   "metadata": {},
   "source": [
    "Postprocess annotation from lightag and save them in a dataset format."
   ]
  },
  {
   "cell_type": "code",
   "execution_count": null,
   "metadata": {},
   "outputs": [],
   "source": [
    "from datasets import load_dataset\n",
    "import json\n",
    "\n",
    "with open('data_lightag/pii-prefilter-final.json') as f:\n",
    "    labels = json.load(f)"
   ]
  },
  {
   "cell_type": "code",
   "execution_count": 44,
   "metadata": {},
   "outputs": [],
   "source": [
    "with open('data_lightag/pii-first-final.json') as f:\n",
    "    labels_no_filter = json.load(f)"
   ]
  },
  {
   "cell_type": "code",
   "execution_count": 45,
   "metadata": {},
   "outputs": [
    {
     "name": "stdout",
     "output_type": "stream",
     "text": [
      "level 0 format: dict_keys(['id', 'examples', 'schema', 'dataset', 'relations', 'name', 'annotators_per_example']),size # annot: 7 # samples: 400\n",
      "level 1 format: dict_keys(['content', 'seen_by', 'metadata', 'example_id', 'annotations', 'classifications']), size: 6\n",
      "level 1 format: dict_keys(['content', 'seen_by', 'metadata', 'example_id', 'annotations', 'classifications']), size: 6\n",
      "dict_keys(['end', 'tag', 'start', 'value', 'tag_id', 'correct', 'reviewed', 'example_id', 'annotated_by', 'definition_id', 'tagged_token_id'])\n"
     ]
    }
   ],
   "source": [
    "print(f\"level 0 format: {labels.keys()},size # annot: {len(labels)} # samples: {len(labels['examples'])}\")\n",
    "print(f\"level 1 format: {labels['examples'][0].keys()}, size: {len(labels['examples'][0])}\")\n",
    "print(f\"level 1 format: {labels['examples'][0].keys()}, size: {len(labels['examples'][0])}\")\n",
    "print(labels[\"examples\"][0][\"annotations\"][0].keys())"
   ]
  },
  {
   "cell_type": "code",
   "execution_count": 46,
   "metadata": {},
   "outputs": [
    {
     "name": "stdout",
     "output_type": "stream",
     "text": [
      "total # reviewed annotations: 1293\n",
      "total # annotations: 1293\n"
     ]
    }
   ],
   "source": [
    "# verify that all annotations are reviewed\n",
    "count = 0\n",
    "for example in labels[\"examples\"]:\n",
    "    for annotation in example[\"annotations\"]:\n",
    "        assert annotation[\"reviewed\"] == True\n",
    "        count += 1\n",
    "print(f\"total # reviewed annotations: {count}\")\n",
    "print(f\"total # annotations: {sum([len(ex['annotations']) for ex in labels['examples']])}\")"
   ]
  },
  {
   "cell_type": "code",
   "execution_count": 47,
   "metadata": {},
   "outputs": [
    {
     "name": "stdout",
     "output_type": "stream",
     "text": [
      "# samples kept: 224\n"
     ]
    }
   ],
   "source": [
    "# remove examples where seen_by is empty\n",
    "L = []\n",
    "for example in labels_no_filter[\"examples\"]:\n",
    "    if example[\"seen_by\"]:\n",
    "        L.append(example)\n",
    "labels_no_filter[\"examples\"] = L\n",
    "print(f\"# samples kept: {len(labels_no_filter['examples'])}\")"
   ]
  },
  {
   "cell_type": "code",
   "execution_count": 48,
   "metadata": {},
   "outputs": [
    {
     "name": "stdout",
     "output_type": "stream",
     "text": [
      "total # reviewed annotations: 215\n",
      "total # annotations: 215\n"
     ]
    }
   ],
   "source": [
    "# verify that all annotations are reviewed\n",
    "count = 0\n",
    "for example in labels_no_filter[\"examples\"]:\n",
    "    for annotation in example[\"annotations\"]:\n",
    "        assert annotation[\"reviewed\"] == True\n",
    "        count += 1\n",
    "print(f\"total # reviewed annotations: {count}\")\n",
    "print(f\"total # annotations: {sum([len(ex['annotations']) for ex in labels_no_filter['examples']])}\")"
   ]
  },
  {
   "cell_type": "markdown",
   "metadata": {},
   "source": [
    "All samples in the current dataset are annotated and reviewed:\n",
    "* 400 samples in the prefiltered daatset, with 1293 annotations\n",
    "* 224 samples in the non filtered dataset, with 215 annotations"
   ]
  },
  {
   "cell_type": "code",
   "execution_count": 51,
   "metadata": {},
   "outputs": [],
   "source": [
    "ds_prefiltered = labels[\"examples\"]\n",
    "ds_no_filter = labels_no_filter[\"examples\"]"
   ]
  },
  {
   "cell_type": "code",
   "execution_count": 54,
   "metadata": {},
   "outputs": [
    {
     "data": {
      "text/plain": [
       "dict_keys(['content', 'seen_by', 'metadata', 'example_id', 'annotations', 'classifications'])"
      ]
     },
     "execution_count": 54,
     "metadata": {},
     "output_type": "execute_result"
    }
   ],
   "source": [
    "ds_prefiltered[0].keys()"
   ]
  },
  {
   "cell_type": "code",
   "execution_count": 60,
   "metadata": {},
   "outputs": [
    {
     "data": {
      "text/plain": [
       "{'end': 52,\n",
       " 'tag': 'EMAIL',\n",
       " 'start': 38,\n",
       " 'value': 'davis@dlib.net',\n",
       " 'tag_id': '76b4fbc7-b129-40ea-a6d3-8988fe626973',\n",
       " 'correct': True,\n",
       " 'reviewed': True,\n",
       " 'example_id': '04f66c12-f51a-4f75-9206-5f67989b30a0',\n",
       " 'annotated_by': [{'annotator': 'mi.lappert@gmail.com',\n",
       "   'timestamp': '2022-11-05T10:46:50.415+00:00',\n",
       "   'annotator_id': 9}],\n",
       " 'definition_id': 'a6e0c132-cd58-45d1-8dd5-5af8cdc6d399',\n",
       " 'tagged_token_id': 'dc6eca22-a38b-4d99-a527-a694dffb04a5'}"
      ]
     },
     "execution_count": 60,
     "metadata": {},
     "output_type": "execute_result"
    }
   ],
   "source": [
    "# this is a list: ds_prefiltered[0][\"annotations\"]\n",
    "ds_prefiltered[0][\"annotations\"][0]"
   ]
  },
  {
   "cell_type": "code",
   "execution_count": 87,
   "metadata": {},
   "outputs": [],
   "source": [
    "def process_example(example):\n",
    "    new_sample = {}\n",
    "    new_sample[\"content\"] = example[\"content\"]\n",
    "    new_sample[\"language\"] = example[\"metadata\"][\"lang\"]\n",
    "    new_sample[\"license\"] = example[\"metadata\"][\"licenses\"][0]\n",
    "    new_sample[\"path\"] = example[\"metadata\"][\"repository_name\"] + \"/\" + example[\"metadata\"][\"path\"]\n",
    "    new_sample[\"annotation_id\"] = example[\"example_id\"]\n",
    "    new_sample[\"pii\"] = []\n",
    "    for annotation in example[\"annotations\"]:\n",
    "        pii = {\"tag\": annotation[\"tag\"],\n",
    "                \"value\": annotation[\"value\"],\n",
    "                \"start\": annotation[\"start\"],\n",
    "                \"end\": annotation[\"end\"]}\n",
    "        start = max(0, pii[\"start\"] - 50)\n",
    "        end = min(len(new_sample[\"content\"]), pii[\"end\"] + 50)\n",
    "        pii[\"context\"] = new_sample[\"content\"][start:end]\n",
    "        new_sample[\"pii\"].append(pii)\n",
    "    # we save the pii in json to avoid not matching sizes per column in `datasets`\n",
    "    new_sample[\"pii\"] = json.dumps(new_sample[\"pii\"])\n",
    "    return new_sample"
   ]
  },
  {
   "cell_type": "code",
   "execution_count": null,
   "metadata": {},
   "outputs": [],
   "source": [
    "# let's remove example 11\n",
    "# issue with sample 34 '251926c8-f8cb-443f-99e0-77254d63430d' there is a \"password\" that wasn't in the labeling"
   ]
  },
  {
   "cell_type": "code",
   "execution_count": 136,
   "metadata": {},
   "outputs": [
    {
     "name": "stdout",
     "output_type": "stream",
     "text": [
      "dict_keys(['content', 'language', 'license', 'path', 'pii'])\n"
     ]
    },
    {
     "data": {
      "text/plain": [
       "[{'tag': 'EMAIL',\n",
       "  'value': 'davis@dlib.net',\n",
       "  'start': 38,\n",
       "  'end': 52,\n",
       "  'context': '// Copyright (C) 2003  Davis E. King (davis@dlib.net), Miguel Grinberg\\n// License: Boost Software Lice'},\n",
       " {'tag': 'NAME',\n",
       "  'value': 'Miguel Grinberg',\n",
       "  'start': 55,\n",
       "  'end': 70,\n",
       "  'context': 'pyright (C) 2003  Davis E. King (davis@dlib.net), Miguel Grinberg\\n// License: Boost Software License   See LICENSE.'},\n",
       " {'tag': 'NAME',\n",
       "  'value': 'Davis E. King',\n",
       "  'start': 23,\n",
       "  'end': 36,\n",
       "  'context': '// Copyright (C) 2003  Davis E. King (davis@dlib.net), Miguel Grinberg\\n// License: Boo'}]"
      ]
     },
     "execution_count": 136,
     "metadata": {},
     "output_type": "execute_result"
    }
   ],
   "source": [
    "res = process_example(ds_prefiltered[0])\n",
    "print(res.keys())\n",
    "pii = json.loads(res[\"pii\"])\n",
    "pii"
   ]
  },
  {
   "cell_type": "code",
   "execution_count": 137,
   "metadata": {},
   "outputs": [],
   "source": [
    "# build a dataset\n",
    "import datasets\n",
    "import pandas as pd\n",
    "\n",
    "def build_dataset(labels):\n",
    "    examples = labels[\"examples\"]\n",
    "    df = pd.DataFrame([process_example(ex) for ex in examples])\n",
    "    dataset = datasets.Dataset.from_pandas(df)\n",
    "    return dataset"
   ]
  },
  {
   "cell_type": "code",
   "execution_count": 138,
   "metadata": {},
   "outputs": [],
   "source": [
    "dataset_filter = build_dataset(labels)\n",
    "dataset_no_filter = build_dataset(labels_no_filter)"
   ]
  },
  {
   "cell_type": "code",
   "execution_count": 139,
   "metadata": {},
   "outputs": [
    {
     "data": {
      "text/plain": [
       "Dataset({\n",
       "    features: ['content', 'language', 'license', 'path', 'pii'],\n",
       "    num_rows: 400\n",
       "})"
      ]
     },
     "execution_count": 139,
     "metadata": {},
     "output_type": "execute_result"
    }
   ],
   "source": [
    "dataset_filter"
   ]
  },
  {
   "cell_type": "code",
   "execution_count": 140,
   "metadata": {},
   "outputs": [
    {
     "data": {
      "text/plain": [
       "Dataset({\n",
       "    features: ['content', 'language', 'license', 'path', 'pii'],\n",
       "    num_rows: 224\n",
       "})"
      ]
     },
     "execution_count": 140,
     "metadata": {},
     "output_type": "execute_result"
    }
   ],
   "source": [
    "dataset_no_filter"
   ]
  },
  {
   "cell_type": "code",
   "execution_count": null,
   "metadata": {},
   "outputs": [],
   "source": [
    "# the labeling of this sample was confusing, many uuid style ids and the context doesn't help to decide which are secrets\n",
    "# and there are many (137) of them which can make the evaluation wrong\n",
    "pii = json.loads(dataset_filter[11][\"pii\"])\n",
    "pii"
   ]
  },
  {
   "cell_type": "code",
   "execution_count": 201,
   "metadata": {},
   "outputs": [
    {
     "data": {
      "text/plain": [
       "Dataset({\n",
       "    features: ['content', 'language', 'license', 'path', 'pii'],\n",
       "    num_rows: 398\n",
       "})"
      ]
     },
     "execution_count": 201,
     "metadata": {},
     "output_type": "execute_result"
    }
   ],
   "source": [
    "# remove examples 11 and 34 and replace \n",
    "# and replace them with the samples -1 and -6 from the no_filter dataset\n",
    "dataset_filter2 = dataset_filter.select((i for i in range(len(dataset_filter)) if i!=11 and i!=34))\n",
    "dataset_filter2"
   ]
  },
  {
   "cell_type": "code",
   "execution_count": 183,
   "metadata": {},
   "outputs": [
    {
     "data": {
      "text/plain": [
       "Dataset({\n",
       "    features: ['content', 'language', 'license', 'path', 'pii'],\n",
       "    num_rows: 2\n",
       "})"
      ]
     },
     "execution_count": 183,
     "metadata": {},
     "output_type": "execute_result"
    }
   ],
   "source": [
    "two_samples = dataset_no_filter.select([223, 218])\n",
    "two_samples"
   ]
  },
  {
   "cell_type": "code",
   "execution_count": 202,
   "metadata": {},
   "outputs": [
    {
     "data": {
      "text/plain": [
       "Dataset({\n",
       "    features: ['content', 'language', 'license', 'path', 'pii'],\n",
       "    num_rows: 400\n",
       "})"
      ]
     },
     "execution_count": 202,
     "metadata": {},
     "output_type": "execute_result"
    }
   ],
   "source": [
    "dataset_filter_clean = datasets.concatenate_datasets([dataset_filter2, two_samples])\n",
    "dataset_filter_clean"
   ]
  },
  {
   "cell_type": "code",
   "execution_count": 211,
   "metadata": {},
   "outputs": [
    {
     "data": {
      "text/plain": [
       "Dataset({\n",
       "    features: ['content', 'language', 'license', 'path', 'pii'],\n",
       "    num_rows: 400\n",
       "})"
      ]
     },
     "execution_count": 211,
     "metadata": {},
     "output_type": "execute_result"
    }
   ],
   "source": [
    "dataset_filter_clean"
   ]
  },
  {
   "cell_type": "code",
   "execution_count": 212,
   "metadata": {},
   "outputs": [],
   "source": [
    "dataset_no_filter_clean = dataset_no_filter.select((i for i in range(len(dataset_no_filter)) if i!=223 and i!=218))"
   ]
  },
  {
   "cell_type": "code",
   "execution_count": 213,
   "metadata": {},
   "outputs": [
    {
     "data": {
      "text/plain": [
       "Dataset({\n",
       "    features: ['content', 'language', 'license', 'path', 'pii'],\n",
       "    num_rows: 222\n",
       "})"
      ]
     },
     "execution_count": 213,
     "metadata": {},
     "output_type": "execute_result"
    }
   ],
   "source": [
    "dataset_no_filter_clean"
   ]
  },
  {
   "cell_type": "code",
   "execution_count": 218,
   "metadata": {},
   "outputs": [
    {
     "data": {
      "application/vnd.jupyter.widget-view+json": {
       "model_id": "2d3656562c504d5bbba5dd9236345da6",
       "version_major": 2,
       "version_minor": 0
      },
      "text/plain": [
       "Creating json from Arrow format:   0%|          | 0/1 [00:00<?, ?ba/s]"
      ]
     },
     "metadata": {},
     "output_type": "display_data"
    },
    {
     "data": {
      "application/vnd.jupyter.widget-view+json": {
       "model_id": "9527c649f6634a2ea53169ff159d3448",
       "version_major": 2,
       "version_minor": 0
      },
      "text/plain": [
       "Creating json from Arrow format:   0%|          | 0/1 [00:00<?, ?ba/s]"
      ]
     },
     "metadata": {},
     "output_type": "display_data"
    },
    {
     "data": {
      "text/plain": [
       "2513550"
      ]
     },
     "execution_count": 218,
     "metadata": {},
     "output_type": "execute_result"
    }
   ],
   "source": [
    "dataset_filter_clean.to_json(\"pii-for-code/data/prefiltered.json\")\n",
    "dataset_no_filter_clean.to_json(\"pii-for-code/data/not-prefiltered.json\")"
   ]
  },
  {
   "cell_type": "code",
   "execution_count": 229,
   "metadata": {},
   "outputs": [
    {
     "name": "stderr",
     "output_type": "stream",
     "text": [
      "Using custom data configuration pii-for-code-706a5ee0c620e8b4\n"
     ]
    },
    {
     "name": "stdout",
     "output_type": "stream",
     "text": [
      "Downloading and preparing dataset json/pii-for-code to /Users/loubnabenallal/.cache/huggingface/datasets/json/pii-for-code-706a5ee0c620e8b4/0.0.0/e6070c77f18f01a5ad4551a8b7edfba20b8438b7cad4d94e6ad9378022ce4aab...\n"
     ]
    },
    {
     "data": {
      "application/vnd.jupyter.widget-view+json": {
       "model_id": "cdd2455421ad4b7ebd9097f9bc5e5c10",
       "version_major": 2,
       "version_minor": 0
      },
      "text/plain": [
       "Downloading data files:   0%|          | 0/1 [00:00<?, ?it/s]"
      ]
     },
     "metadata": {},
     "output_type": "display_data"
    },
    {
     "data": {
      "application/vnd.jupyter.widget-view+json": {
       "model_id": "c17acc4696414aa1990753d208788152",
       "version_major": 2,
       "version_minor": 0
      },
      "text/plain": [
       "Extracting data files:   0%|          | 0/1 [00:00<?, ?it/s]"
      ]
     },
     "metadata": {},
     "output_type": "display_data"
    },
    {
     "data": {
      "application/vnd.jupyter.widget-view+json": {
       "model_id": "52cff001032e48ddaa6400c2cd7ab53f",
       "version_major": 2,
       "version_minor": 0
      },
      "text/plain": [
       "0 tables [00:00, ? tables/s]"
      ]
     },
     "metadata": {},
     "output_type": "display_data"
    },
    {
     "name": "stdout",
     "output_type": "stream",
     "text": [
      "Dataset json downloaded and prepared to /Users/loubnabenallal/.cache/huggingface/datasets/json/pii-for-code-706a5ee0c620e8b4/0.0.0/e6070c77f18f01a5ad4551a8b7edfba20b8438b7cad4d94e6ad9378022ce4aab. Subsequent calls will reuse this data.\n"
     ]
    },
    {
     "data": {
      "application/vnd.jupyter.widget-view+json": {
       "model_id": "722ccbe7b30e4d4abbe4ab160ddd300f",
       "version_major": 2,
       "version_minor": 0
      },
      "text/plain": [
       "  0%|          | 0/1 [00:00<?, ?it/s]"
      ]
     },
     "metadata": {},
     "output_type": "display_data"
    }
   ],
   "source": [
    "ds = load_dataset(\"pii-for-code\", data_dir=\"data/not-prefiltered\")"
   ]
  },
  {
   "cell_type": "code",
   "execution_count": 231,
   "metadata": {},
   "outputs": [
    {
     "data": {
      "application/vnd.jupyter.widget-view+json": {
       "model_id": "9812fb3efe3747b0be46495af7bb2699",
       "version_major": 2,
       "version_minor": 0
      },
      "text/plain": [
       "Downloading readme:   0%|          | 0.00/23.0 [00:00<?, ?B/s]"
      ]
     },
     "metadata": {},
     "output_type": "display_data"
    },
    {
     "name": "stderr",
     "output_type": "stream",
     "text": [
      "Using custom data configuration loubnabnl--pii-for-code-3e83605526768f46\n"
     ]
    },
    {
     "name": "stdout",
     "output_type": "stream",
     "text": [
      "Downloading and preparing dataset json/loubnabnl--pii-for-code to /Users/loubnabenallal/.cache/huggingface/datasets/loubnabnl___json/loubnabnl--pii-for-code-3e83605526768f46/0.0.0/e6070c77f18f01a5ad4551a8b7edfba20b8438b7cad4d94e6ad9378022ce4aab...\n"
     ]
    },
    {
     "data": {
      "application/vnd.jupyter.widget-view+json": {
       "model_id": "691c9fe30fe848e89ae04f898dded585",
       "version_major": 2,
       "version_minor": 0
      },
      "text/plain": [
       "Downloading data files:   0%|          | 0/1 [00:00<?, ?it/s]"
      ]
     },
     "metadata": {},
     "output_type": "display_data"
    },
    {
     "data": {
      "application/vnd.jupyter.widget-view+json": {
       "model_id": "fd8cd2683a5644d7b7663888c2408e32",
       "version_major": 2,
       "version_minor": 0
      },
      "text/plain": [
       "Downloading data:   0%|          | 0.00/2.51M [00:00<?, ?B/s]"
      ]
     },
     "metadata": {},
     "output_type": "display_data"
    },
    {
     "data": {
      "application/vnd.jupyter.widget-view+json": {
       "model_id": "71dd7dbd59d14f2e89ed1514de2c5d1c",
       "version_major": 2,
       "version_minor": 0
      },
      "text/plain": [
       "Extracting data files:   0%|          | 0/1 [00:00<?, ?it/s]"
      ]
     },
     "metadata": {},
     "output_type": "display_data"
    },
    {
     "data": {
      "application/vnd.jupyter.widget-view+json": {
       "model_id": "3b5760cb2f704e32992ed8bd6243a43f",
       "version_major": 2,
       "version_minor": 0
      },
      "text/plain": [
       "0 tables [00:00, ? tables/s]"
      ]
     },
     "metadata": {},
     "output_type": "display_data"
    },
    {
     "name": "stdout",
     "output_type": "stream",
     "text": [
      "Dataset json downloaded and prepared to /Users/loubnabenallal/.cache/huggingface/datasets/loubnabnl___json/loubnabnl--pii-for-code-3e83605526768f46/0.0.0/e6070c77f18f01a5ad4551a8b7edfba20b8438b7cad4d94e6ad9378022ce4aab. Subsequent calls will reuse this data.\n"
     ]
    },
    {
     "data": {
      "application/vnd.jupyter.widget-view+json": {
       "model_id": "191239c0f3f746bcbe28fa2868de59d9",
       "version_major": 2,
       "version_minor": 0
      },
      "text/plain": [
       "  0%|          | 0/1 [00:00<?, ?it/s]"
      ]
     },
     "metadata": {},
     "output_type": "display_data"
    }
   ],
   "source": [
    "ds = load_dataset(\"loubnabnl/pii-for-code\", data_dir=\"data/not-prefiltered\")"
   ]
  },
  {
   "cell_type": "code",
   "execution_count": 232,
   "metadata": {},
   "outputs": [
    {
     "data": {
      "text/plain": [
       "DatasetDict({\n",
       "    train: Dataset({\n",
       "        features: ['content', 'language', 'license', 'path', 'pii'],\n",
       "        num_rows: 222\n",
       "    })\n",
       "})"
      ]
     },
     "execution_count": 232,
     "metadata": {},
     "output_type": "execute_result"
    }
   ],
   "source": [
    "ds"
   ]
  }
 ],
 "metadata": {
  "kernelspec": {
   "display_name": "Python 3.10.4 ('venv')",
   "language": "python",
   "name": "python3"
  },
  "language_info": {
   "codemirror_mode": {
    "name": "ipython",
    "version": 3
   },
   "file_extension": ".py",
   "mimetype": "text/x-python",
   "name": "python",
   "nbconvert_exporter": "python",
   "pygments_lexer": "ipython3",
   "version": "3.10.4"
  },
  "orig_nbformat": 4,
  "vscode": {
   "interpreter": {
    "hash": "fd8fde6f83dada9276d12fdb71d773558994168ed1b3bea457b8db38c02aa2e1"
   }
  }
 },
 "nbformat": 4,
 "nbformat_minor": 2
}
