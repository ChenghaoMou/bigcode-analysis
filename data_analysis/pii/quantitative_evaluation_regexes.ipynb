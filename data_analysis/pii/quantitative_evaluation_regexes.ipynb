{
 "cells": [
  {
   "cell_type": "code",
   "execution_count": 1,
   "metadata": {},
   "outputs": [
    {
     "name": "stderr",
     "output_type": "stream",
     "text": [
      "Using custom data configuration bigcode--pii-for-code-99989b1cd3de6b7b\n",
      "Found cached dataset json (/Users/loubnabenallal/.cache/huggingface/datasets/bigcode___json/bigcode--pii-for-code-99989b1cd3de6b7b/0.0.0/e6070c77f18f01a5ad4551a8b7edfba20b8438b7cad4d94e6ad9378022ce4aab)\n"
     ]
    }
   ],
   "source": [
    "import json\n",
    "from datasets import load_dataset\n",
    "\n",
    "from detect_pii import scan_pii_batch_viz, scan_pii_batch\n",
    "from utils.evaluation import evaluate_pii, evaluate_pii_ds, recall_precision_all_tags, recall_precision\n",
    "\n",
    "ds = load_dataset(\"bigcode/pii-for-code\", use_auth_token=True, split=\"train\")"
   ]
  },
  {
   "cell_type": "code",
   "execution_count": 2,
   "metadata": {},
   "outputs": [
    {
     "data": {
      "text/plain": [
       "Dataset({\n",
       "    features: ['content', 'language', 'license', 'path', 'annotation_id', 'pii', 'pii_modified'],\n",
       "    num_rows: 400\n",
       "})"
      ]
     },
     "execution_count": 2,
     "metadata": {},
     "output_type": "execute_result"
    }
   ],
   "source": [
    "ds"
   ]
  },
  {
   "cell_type": "code",
   "execution_count": null,
   "metadata": {},
   "outputs": [],
   "source": [
    "r = \"\"\"(?<=^|[\\b\\s@,?!;:)('\".\\p{Han}<])([^\\b\\s@?!;,:)('\"<]+@[^\\b\\s@!?;,/]*[^\\b\\s@?!;,/:)('\">.]\\.\\p{L}\\w{1,})(?=$|[\\b\\s@,?!;:)('\".\\p{Han}>])\"\"\""
   ]
  },
  {
   "cell_type": "markdown",
   "metadata": {},
   "source": [
    "## Run PII detection on the dataset"
   ]
  },
  {
   "cell_type": "markdown",
   "metadata": {},
   "source": [
    "### 1. Use Regexes for all the PII types"
   ]
  },
  {
   "cell_type": "code",
   "execution_count": 2,
   "metadata": {},
   "outputs": [],
   "source": [
    "examples = ds.select(range(100))"
   ]
  },
  {
   "cell_type": "code",
   "execution_count": 3,
   "metadata": {},
   "outputs": [
    {
     "name": "stderr",
     "output_type": "stream",
     "text": [
      "Loading cached processed dataset at /Users/loubnabenallal/.cache/huggingface/datasets/bigcode___json/bigcode--pii-for-code-99989b1cd3de6b7b/0.0.0/e6070c77f18f01a5ad4551a8b7edfba20b8438b7cad4d94e6ad9378022ce4aab/cache-0fffc14d2ecdef1b.arrow\n"
     ]
    }
   ],
   "source": [
    "ds_pii = examples.map(scan_pii_batch, batched=True, batch_size=10)"
   ]
  },
  {
   "cell_type": "code",
   "execution_count": 20,
   "metadata": {},
   "outputs": [
    {
     "name": "stdout",
     "output_type": "stream",
     "text": [
      "\n",
      "Sample 0:\n",
      "\n",
      "pii predictins: [{'tag': 'EMAIL', 'value': 'davis@dlib.net', 'start': 38, 'end': 52}]\n",
      "pii references: [{'tag': 'EMAIL', 'value': 'davis@dlib.net', 'start': 38, 'end': 52, 'context': '// Copyright (C) 2003  Davis E. King (davis@dlib.net), Miguel Grinberg\\n// License: Boost Software Lice'}, {'tag': 'NAME', 'value': 'Miguel Grinberg', 'start': 55, 'end': 70, 'context': 'pyright (C) 2003  Davis E. King (davis@dlib.net), Miguel Grinberg\\n// License: Boost Software License   See LICENSE.'}, {'tag': 'NAME', 'value': 'Davis E. King', 'start': 23, 'end': 36, 'context': '// Copyright (C) 2003  Davis E. King (davis@dlib.net), Miguel Grinberg\\n// License: Boo'}]\n",
      "{'EMAIL': {'TP': 1, 'FN': 0, 'FP': 0}, 'IP_ADDRESS': {'TP': 0, 'FN': 0, 'FP': 0}, 'KEY': {'TP': 0, 'FN': 0, 'FP': 0}}\n",
      "{'EMAIL': {'recall': 1.0, 'precision': 1.0}, 'IP_ADDRESS': {'recall': 1.0, 'precision': 1.0}, 'KEY': {'recall': 1.0, 'precision': 1.0}}\n",
      "{'recall': 1.0, 'precision': 1.0}\n",
      "\n",
      "Sample 1:\n",
      "\n",
      "pii predictins: [{'tag': 'KEY', 'value': '3CD5FCBC8EAD4E0A80FA41A62', 'start': 3504, 'end': 3529}]\n",
      "pii references: []\n",
      "{'EMAIL': {'TP': 0, 'FN': 0, 'FP': 0}, 'IP_ADDRESS': {'TP': 0, 'FN': 0, 'FP': 0}, 'KEY': {'TP': 0, 'FN': 0, 'FP': 1}}\n",
      "{'EMAIL': {'recall': 1.0, 'precision': 1.0}, 'IP_ADDRESS': {'recall': 1.0, 'precision': 1.0}, 'KEY': {'recall': 0, 'precision': 0}}\n",
      "{'recall': 0, 'precision': 0}\n"
     ]
    }
   ],
   "source": [
    "# small test\n",
    "def load_json(sample):\n",
    "    try:\n",
    "        return json.loads(sample)\n",
    "    except ValueError:\n",
    "        return []\n",
    "\n",
    "for i in range(2):\n",
    "    print(f\"\\nSample {i}:\\n\")\n",
    "\n",
    "    pii = load_json(ds_pii[\"pii_modified\"][i])\n",
    "    secrets = load_json(ds_pii[\"secrets\"][i])\n",
    "    print(f\"pii predictins: {secrets}\")\n",
    "    print(f\"pii references: {pii}\")\n",
    "\n",
    "    metrics = evaluate_pii(pii, secrets)\n",
    "    print(metrics)\n",
    "    print(recall_precision(metrics))\n",
    "    print(recall_precision_all_tags(metrics))"
   ]
  },
  {
   "cell_type": "code",
   "execution_count": 14,
   "metadata": {},
   "outputs": [],
   "source": [
    "# evaluate on the whole 100 samples\n",
    "metrics, metrics_dict = evaluate_pii_ds(ds_pii, pred_column='secrets', ref_column=\"pii_modified\", overall_score=False, alpha=0.3, beta=0.3)"
   ]
  },
  {
   "cell_type": "code",
   "execution_count": 11,
   "metadata": {},
   "outputs": [
    {
     "data": {
      "text/plain": [
       "{'EMAIL': {'recall': 0.9791666666666666, 'precision': 0.17735849056603772},\n",
       " 'IP_ADDRESS': {'recall': 0.9523809523809523,\n",
       "  'precision': 0.47619047619047616},\n",
       " 'KEY': {'recall': 0.11764705882352941, 'precision': 0.03278688524590164}}"
      ]
     },
     "execution_count": 11,
     "metadata": {},
     "output_type": "execute_result"
    }
   ],
   "source": [
    "metrics"
   ]
  },
  {
   "cell_type": "code",
   "execution_count": 12,
   "metadata": {},
   "outputs": [
    {
     "data": {
      "text/plain": [
       "{'EMAIL': {'TP': 47, 'FN': 1, 'FP': 218},\n",
       " 'IP_ADDRESS': {'TP': 20, 'FN': 1, 'FP': 22},\n",
       " 'KEY': {'TP': 2, 'FN': 15, 'FP': 59}}"
      ]
     },
     "execution_count": 12,
     "metadata": {},
     "output_type": "execute_result"
    }
   ],
   "source": [
    "metrics_dict"
   ]
  },
  {
   "cell_type": "markdown",
   "metadata": {},
   "source": [
    "Why different results below for keys?"
   ]
  },
  {
   "cell_type": "code",
   "execution_count": 23,
   "metadata": {},
   "outputs": [
    {
     "name": "stdout",
     "output_type": "stream",
     "text": [
      "{'EMAIL': {'TP': 0, 'FN': 0, 'FP': 0}, 'IP_ADDRESS': {'TP': 0, 'FN': 0, 'FP': 0}, 'KEY': {'TP': 7, 'FN': 10, 'FP': 54}}\n",
      "{'EMAIL': {'recall': 1.0, 'precision': 1.0}, 'IP_ADDRESS': {'recall': 1.0, 'precision': 1.0}, 'KEY': {'recall': 0.4117647058823529, 'precision': 0.11475409836065574}}\n"
     ]
    }
   ],
   "source": [
    "references, predictions = [], []\n",
    "for elem in ds_pii:\n",
    "    # get list of all detections that have tag=\"KEY\" in columns pii_modified and secrets\n",
    "    refs = load_json(elem[\"pii_modified\"])\n",
    "    preds = load_json(elem[\"secrets\"])\n",
    "    references += [e for e in refs if e[\"tag\"] == \"KEY\"]\n",
    "    predictions += [e for e in preds if e[\"tag\"] == \"KEY\"]\n",
    "    # evaluate\n",
    "metrics = evaluate_pii(references, predictions, alpha=0.4, beta=0.4)\n",
    "print(metrics)\n",
    "print(recall_precision(metrics))"
   ]
  },
  {
   "cell_type": "markdown",
   "metadata": {},
   "source": [
    "### 2. Use detect-secrets to detect keys"
   ]
  },
  {
   "cell_type": "code",
   "execution_count": 24,
   "metadata": {},
   "outputs": [
    {
     "data": {
      "application/vnd.jupyter.widget-view+json": {
       "model_id": "386aecff58594732bc510bb2fce23e10",
       "version_major": 2,
       "version_minor": 0
      },
      "text/plain": [
       "  0%|          | 0/10 [00:00<?, ?ba/s]"
      ]
     },
     "metadata": {},
     "output_type": "display_data"
    }
   ],
   "source": [
    "ds_pii_2 = examples.map(lambda x: scan_pii_batch(x, key_detector=\"detect-secrets\"), batched=True, batch_size=10)"
   ]
  },
  {
   "cell_type": "code",
   "execution_count": 27,
   "metadata": {},
   "outputs": [
    {
     "data": {
      "text/plain": [
       "'[{\"tag\": \"IP_ADDRESS\", \"value\": \"0.0.0.0\", \"start\": 163, \"end\": 170}, {\"tag\": \"IP_ADDRESS\", \"value\": \"162.243.201.175\", \"start\": 571, \"end\": 586}, {\"tag\": \"KEY\", \"value\": \"eyJhbGciOiJIUzI1NiIsInR5cCI6IkpXVCJ9.eyJpZCI6IjU5ODFmMTY3MjEyYjM0OGFlZDdmYTlmNSIsInNjb3BlIjpbImFkbWluIiwiZXZlbnRfbWFuYWdlciIsImV2ZW50X2xvZ2dlciIsImV2ZW50X3dhdGNoZXIiXSwiaWF0IjoxNTI1MDE0NDE3fQ.\", \"start\": 276, \"end\": 468}, {\"tag\": \"KEY\", \"value\": \"eyJhbGciOiJIUzI1NiIsInR5cCI6IkpXVCJ9.eyJpZCI6IjU5ODFmMTY3MjEyYjM0OGFlZDdmYTlmNSIsInNjb3BlIjpbImFkbWluIiwiZXZlbnRfbWFuYWdlciIsImV2ZW50X2xvZ2dlciIsImV2ZW50X3dhdGNoZXIiXSwiaWF0IjoxNTI1MDEzNTUxfQ.\", \"start\": 694, \"end\": 886}]'"
      ]
     },
     "execution_count": 27,
     "metadata": {},
     "output_type": "execute_result"
    }
   ],
   "source": [
    "# examples of keys detections\n",
    "ds_pii_2[\"secrets\"][27]"
   ]
  },
  {
   "cell_type": "code",
   "execution_count": 28,
   "metadata": {},
   "outputs": [],
   "source": [
    "# evaluate on the whole 100 samples\n",
    "metrics, metrics_dict = evaluate_pii_ds(ds_pii_2, pred_column='secrets', ref_column=\"pii_modified\", overall_score=False, alpha=0.4, beta=0.4)"
   ]
  },
  {
   "cell_type": "code",
   "execution_count": 29,
   "metadata": {},
   "outputs": [
    {
     "data": {
      "text/plain": [
       "{'EMAIL': {'recall': 0.9791666666666666, 'precision': 0.17735849056603772},\n",
       " 'IP_ADDRESS': {'recall': 0.9523809523809523,\n",
       "  'precision': 0.47619047619047616},\n",
       " 'KEY': {'recall': 0.4117647058823529, 'precision': 0.15555555555555556}}"
      ]
     },
     "execution_count": 29,
     "metadata": {},
     "output_type": "execute_result"
    }
   ],
   "source": [
    "metrics"
   ]
  },
  {
   "cell_type": "code",
   "execution_count": 30,
   "metadata": {},
   "outputs": [
    {
     "data": {
      "text/plain": [
       "{'EMAIL': {'TP': 47, 'FN': 1, 'FP': 218},\n",
       " 'IP_ADDRESS': {'TP': 20, 'FN': 1, 'FP': 22},\n",
       " 'KEY': {'TP': 7, 'FN': 10, 'FP': 38}}"
      ]
     },
     "execution_count": 30,
     "metadata": {},
     "output_type": "execute_result"
    }
   ],
   "source": [
    "metrics_dict"
   ]
  }
 ],
 "metadata": {
  "kernelspec": {
   "display_name": "Python 3.10.4 ('venv')",
   "language": "python",
   "name": "python3"
  },
  "language_info": {
   "codemirror_mode": {
    "name": "ipython",
    "version": 3
   },
   "file_extension": ".py",
   "mimetype": "text/x-python",
   "name": "python",
   "nbconvert_exporter": "python",
   "pygments_lexer": "ipython3",
   "version": "3.10.4"
  },
  "orig_nbformat": 4,
  "vscode": {
   "interpreter": {
    "hash": "fd8fde6f83dada9276d12fdb71d773558994168ed1b3bea457b8db38c02aa2e1"
   }
  }
 },
 "nbformat": 4,
 "nbformat_minor": 2
}
