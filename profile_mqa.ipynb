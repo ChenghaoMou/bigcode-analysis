{
 "cells": [
  {
   "cell_type": "code",
   "execution_count": 14,
   "id": "f99e438c-1802-4573-844c-d91e4951ec19",
   "metadata": {},
   "outputs": [
    {
     "name": "stdout",
     "output_type": "stream",
     "text": [
      "Python 3.9.13\n"
     ]
    }
   ],
   "source": [
    "!python --version"
   ]
  },
  {
   "cell_type": "code",
   "execution_count": null,
   "id": "21f81c44-13cb-4bb2-8dd5-1b1e783ca3d4",
   "metadata": {},
   "outputs": [],
   "source": [
    "!pip install -r requirements.txt"
   ]
  },
  {
   "cell_type": "code",
   "execution_count": 2,
   "id": "4970d655-1539-4e3a-8fef-812de8af5173",
   "metadata": {},
   "outputs": [
    {
     "name": "stdout",
     "output_type": "stream",
     "text": [
      "/home/studio-lab-user/.conda/envs/default/lib/python3.9/site-packages/transformers/__init__.py\n",
      "CUDA is available : True\n",
      "PWD : /home/studio-lab-user/bigcode-analysis\n",
      "transformers_cache : /home/studio-lab-user/bigcode-analysis/hf_transformers_cache\n",
      "-------------------- attention_type == AttentionType.MULTI_QUERY ---------------------\n",
      "{'get_test_batch': 0.0003762245178222656, 'generate_text_batch': 25.753139972686768, 'decode_batch': 0.024125099182128906, 'input_batch_size': 8, 'input_batch_length': 16, 'max_gen_length': 1024, 'num_beams': 1, 'do_sample': True, 'pad_token_id': 50256, 'dtype': torch.int64, 'device': device(type='cuda'), 'cuda_device_name': 'Tesla T4'}\n",
      "-------------------- attention_type == AttentionType.MULTI_QUERY_1 ---------------------\n",
      "{'get_test_batch': 9.5367431640625e-05, 'generate_text_batch': 18.23641276359558, 'decode_batch': 0.021501779556274414, 'input_batch_size': 8, 'input_batch_length': 16, 'max_gen_length': 1024, 'num_beams': 1, 'do_sample': True, 'pad_token_id': 50256, 'dtype': torch.int64, 'device': device(type='cuda'), 'cuda_device_name': 'Tesla T4'}\n",
      "-------------------- attention_type == AttentionType.MULTI_HEAD ---------------------\n",
      "{'get_test_batch': 9.250640869140625e-05, 'generate_text_batch': 28.67402172088623, 'decode_batch': 0.019098281860351562, 'input_batch_size': 8, 'input_batch_length': 16, 'max_gen_length': 1024, 'num_beams': 1, 'do_sample': True, 'pad_token_id': 50256, 'dtype': torch.int64, 'device': device(type='cuda'), 'cuda_device_name': 'Tesla T4'}\n",
      "Total elapsed time : 101.27500867843628 [s]\n"
     ]
    }
   ],
   "source": [
    "import multi_query_experiments.profile_hf_generate"
   ]
  },
  {
   "cell_type": "code",
   "execution_count": null,
   "id": "f66365b2-f1dd-41b0-b67e-23f935390d61",
   "metadata": {},
   "outputs": [],
   "source": []
  }
 ],
 "metadata": {
  "kernelspec": {
   "display_name": "default:Python",
   "language": "python",
   "name": "conda-env-default-py"
  },
  "language_info": {
   "codemirror_mode": {
    "name": "ipython",
    "version": 3
   },
   "file_extension": ".py",
   "mimetype": "text/x-python",
   "name": "python",
   "nbconvert_exporter": "python",
   "pygments_lexer": "ipython3",
   "version": "3.9.13"
  }
 },
 "nbformat": 4,
 "nbformat_minor": 5
}
