{
 "cells": [
  {
   "cell_type": "code",
   "execution_count": 14,
   "id": "f99e438c-1802-4573-844c-d91e4951ec19",
   "metadata": {},
   "outputs": [
    {
     "name": "stdout",
     "output_type": "stream",
     "text": [
      "Python 3.9.13\n"
     ]
    }
   ],
   "source": [
    "!python --version"
   ]
  },
  {
   "cell_type": "code",
   "execution_count": null,
   "id": "21f81c44-13cb-4bb2-8dd5-1b1e783ca3d4",
   "metadata": {},
   "outputs": [],
   "source": [
    "!pip install -r requirements.txt"
   ]
  },
  {
   "cell_type": "code",
   "execution_count": 18,
   "id": "4970d655-1539-4e3a-8fef-812de8af5173",
   "metadata": {},
   "outputs": [],
   "source": [
    "import multi_query_experiments.profile_hf_generate"
   ]
  },
  {
   "cell_type": "code",
   "execution_count": null,
   "id": "0b761b11-732f-4970-97f7-da4a8cb59559",
   "metadata": {},
   "outputs": [],
   "source": []
  }
 ],
 "metadata": {
  "kernelspec": {
   "display_name": "default:Python",
   "language": "python",
   "name": "conda-env-default-py"
  },
  "language_info": {
   "codemirror_mode": {
    "name": "ipython",
    "version": 3
   },
   "file_extension": ".py",
   "mimetype": "text/x-python",
   "name": "python",
   "nbconvert_exporter": "python",
   "pygments_lexer": "ipython3",
   "version": "3.9.13"
  }
 },
 "nbformat": 4,
 "nbformat_minor": 5
}
