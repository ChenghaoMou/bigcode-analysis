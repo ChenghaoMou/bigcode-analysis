{
 "cells": [
  {
   "cell_type": "code",
   "execution_count": null,
   "id": "f99e438c-1802-4573-844c-d91e4951ec19",
   "metadata": {},
   "outputs": [],
   "source": [
    "!python --version"
   ]
  },
  {
   "cell_type": "code",
   "execution_count": null,
   "id": "21f81c44-13cb-4bb2-8dd5-1b1e783ca3d4",
   "metadata": {},
   "outputs": [],
   "source": [
    "!pip install -r requirements.txt"
   ]
  },
  {
   "cell_type": "code",
   "execution_count": null,
   "id": "4970d655-1539-4e3a-8fef-812de8af5173",
   "metadata": {},
   "outputs": [],
   "source": [
    "import multi_query_experiments.profile_hf_generate"
   ]
  }
 ],
 "metadata": {
  "kernelspec": {
   "display_name": "conda_pytorch_p38",
   "language": "python",
   "name": "conda_pytorch_p38"
  },
  "language_info": {
   "codemirror_mode": {
    "name": "ipython",
    "version": 3
   },
   "file_extension": ".py",
   "mimetype": "text/x-python",
   "name": "python",
   "nbconvert_exporter": "python",
   "pygments_lexer": "ipython3",
   "version": "3.8.12"
  }
 },
 "nbformat": 4,
 "nbformat_minor": 5
}
